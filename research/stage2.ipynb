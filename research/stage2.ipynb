{
 "cells": [
  {
   "cell_type": "code",
   "execution_count": 6,
   "id": "96e28a9b-c554-4298-860c-b1f4b2a0c0fd",
   "metadata": {},
   "outputs": [
    {
     "data": {
      "text/plain": [
       "'/Users/hrishikeshpoduval08/Desktop/ai_projects/CNN_Class'"
      ]
     },
     "execution_count": 6,
     "metadata": {},
     "output_type": "execute_result"
    }
   ],
   "source": [
    "pwd"
   ]
  },
  {
   "cell_type": "code",
   "execution_count": 7,
   "id": "3d356ba0-dc94-472f-bb15-c1d0f843620d",
   "metadata": {},
   "outputs": [],
   "source": [
    "import os"
   ]
  },
  {
   "cell_type": "code",
   "execution_count": 10,
   "id": "acef3ad9-504f-4bfb-a2fa-2c28132660de",
   "metadata": {},
   "outputs": [
    {
     "name": "stdout",
     "output_type": "stream",
     "text": [
      "__init__.py  \u001b[34mcomponents\u001b[m\u001b[m/  \u001b[34mconstants\u001b[m\u001b[m/   \u001b[34mpipeline\u001b[m\u001b[m/\n",
      "\u001b[34m__pycache__\u001b[m\u001b[m/ \u001b[34mconfig\u001b[m\u001b[m/      \u001b[34mentity\u001b[m\u001b[m/      \u001b[34mutils\u001b[m\u001b[m/\n"
     ]
    }
   ],
   "source": [
    "ls"
   ]
  },
  {
   "cell_type": "code",
   "execution_count": 9,
   "id": "fb6905a0-3d7d-4a52-bfb8-1ff63aeb0f72",
   "metadata": {},
   "outputs": [],
   "source": [
    "os.chdir(\"src/cnn_classifier\")"
   ]
  }
 ],
 "metadata": {
  "kernelspec": {
   "display_name": "Python 3 (ipykernel)",
   "language": "python",
   "name": "python3"
  },
  "language_info": {
   "codemirror_mode": {
    "name": "ipython",
    "version": 3
   },
   "file_extension": ".py",
   "mimetype": "text/x-python",
   "name": "python",
   "nbconvert_exporter": "python",
   "pygments_lexer": "ipython3",
   "version": "3.11.5"
  }
 },
 "nbformat": 4,
 "nbformat_minor": 5
}
